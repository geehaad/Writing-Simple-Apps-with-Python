{
 "cells": [
  {
   "cell_type": "markdown",
   "metadata": {},
   "source": [
    "# Count character\n",
    "## in a given word, phrase or sentence.\n"
   ]
  },
  {
   "cell_type": "markdown",
   "metadata": {},
   "source": [
    "In this notebook, I create a function to count the number of occurrence of a given character in a given word, phrase or a sentence.<br>\n",
    "And also create a function to count the number of occurrence of a given word in a given phrase or a sentence."
   ]
  },
  {
   "cell_type": "code",
   "execution_count": null,
   "metadata": {},
   "outputs": [],
   "source": [
    "# A function to count the occurrence of a char in a word or a sentence\n",
    "def countOccChar(sent, char):\n",
    "    sent = sent.lower() #turn the sentence to lower case\n",
    "    char = char.lower() #turn the char to lower case\n",
    "    count = 0 #A counter to count the occurrence of the character\n",
    "\n",
    "    for c in sent : #loop over the sentence \n",
    "        if c == char: #Check if the char is the same as the iterator\n",
    "            count +=1 #Count the occurrence\n",
    "    return(count)"
   ]
  },
  {
   "cell_type": "code",
   "execution_count": 56,
   "metadata": {},
   "outputs": [],
   "source": [
    "# A function to count the occurrence of a word in a sentence\n",
    "def countOccWord(sent, word):\n",
    "    sent = sent.lower() #turn the sentence to lower case\n",
    "    word = word.lower() #turn the word to lower case\n",
    "    count = 0 #A counter to count the occurrence of the character\n",
    "\n",
    "    punctuations = '''!()-[]{};:'\"\\,<>./?@#$%^&*_~'''\n",
    "    no_punct = \"\"\n",
    "    s = sent.split(\" \") #Split the sentence by space \n",
    "    for char in sent: #loop over the sentence\n",
    "        if char not in punctuations: #To remove the punctuations\n",
    "            no_punct = no_punct + char\n",
    "    s = no_punct.split(\" \")\n",
    "\n",
    "    lensent = len(s)\n",
    "\n",
    "    for c in range(0,lensent) :\n",
    "        if word == s[c]:\n",
    "            count +=1\n",
    "    return(count)\n"
   ]
  },
  {
   "cell_type": "code",
   "execution_count": 57,
   "metadata": {},
   "outputs": [],
   "source": [
    "word = \"Gehad\"\n",
    "sent = \"This is Gehad, a fresh graduate from the Computer science department, Alexandria University, Egypt.\""
   ]
  },
  {
   "cell_type": "code",
   "execution_count": 58,
   "metadata": {},
   "outputs": [
    {
     "data": {
      "text/plain": [
       "1"
      ]
     },
     "execution_count": 58,
     "metadata": {},
     "output_type": "execute_result"
    }
   ],
   "source": [
    "countOccWord(sent, word)"
   ]
  },
  {
   "cell_type": "code",
   "execution_count": 54,
   "metadata": {},
   "outputs": [
    {
     "data": {
      "text/plain": [
       "4"
      ]
     },
     "execution_count": 54,
     "metadata": {},
     "output_type": "execute_result"
    }
   ],
   "source": [
    "countOccChar(\"Gehgadgg\", \"g\")"
   ]
  },
  {
   "cell_type": "code",
   "execution_count": null,
   "metadata": {},
   "outputs": [],
   "source": [
    "# Driver code\n",
    "ph = input('Enter a word, phrase or sentence for the test:')\n",
    "\n",
    "char = input('Enter the character you want to search for: ')\n",
    "\n",
    "print(countOccChar(ph, char))"
   ]
  },
  {
   "cell_type": "code",
   "execution_count": 31,
   "metadata": {},
   "outputs": [
    {
     "data": {
      "text/plain": [
       "1"
      ]
     },
     "execution_count": 31,
     "metadata": {},
     "output_type": "execute_result"
    }
   ],
   "source": [
    "print(result)"
   ]
  },
  {
   "cell_type": "code",
   "execution_count": null,
   "metadata": {},
   "outputs": [],
   "source": []
  }
 ],
 "metadata": {
  "kernelspec": {
   "display_name": "Python 3",
   "language": "python",
   "name": "python3"
  },
  "language_info": {
   "codemirror_mode": {
    "name": "ipython",
    "version": 3
   },
   "file_extension": ".py",
   "mimetype": "text/x-python",
   "name": "python",
   "nbconvert_exporter": "python",
   "pygments_lexer": "ipython3",
   "version": "3.8.5"
  }
 },
 "nbformat": 4,
 "nbformat_minor": 4
}
