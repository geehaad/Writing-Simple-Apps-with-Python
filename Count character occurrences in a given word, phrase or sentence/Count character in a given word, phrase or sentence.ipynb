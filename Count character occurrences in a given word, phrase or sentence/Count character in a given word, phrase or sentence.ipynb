{
 "cells": [
  {
   "cell_type": "markdown",
   "metadata": {},
   "source": [
    "# Count character\n",
    "## in a given word, phrase or sentence.\n"
   ]
  },
  {
   "cell_type": "code",
   "execution_count": 29,
   "metadata": {},
   "outputs": [],
   "source": [
    "word = \"Gehad\"\n",
    "sent = \"This is Gehad, a fresh graduate from the Computer science department, Alexandria University, Egypt.\""
   ]
  },
  {
   "cell_type": "code",
   "execution_count": 32,
   "metadata": {},
   "outputs": [],
   "source": [
    "def countOccWord(sent, word):\n",
    "    sent = sent.lower()\n",
    "    word = word.lower()\n",
    "    count = 0\n",
    "\n",
    "    punctuations = '''!()-[]{};:'\"\\,<>./?@#$%^&*_~'''\n",
    "    no_punct = \"\"\n",
    "    s = sent.split(\" \")\n",
    "    for char in sent:\n",
    "        if char not in punctuations:\n",
    "            no_punct = no_punct + char\n",
    "    s = no_punct.split(\" \")\n",
    "\n",
    "    lensent = len(s)\n",
    "\n",
    "    for c in range(0,lensent) :\n",
    "        if word == s[c]:\n",
    "            count +=1\n",
    "    return(count)\n"
   ]
  },
  {
   "cell_type": "code",
   "execution_count": 51,
   "metadata": {},
   "outputs": [],
   "source": [
    "def countOccChar(sent, char):\n",
    "    sent = sent.lower()\n",
    "    char = char.lower()\n",
    "    count = 0\n",
    "\n",
    "#     lensent = len(sent)\n",
    "\n",
    "    for c in sent :\n",
    "        if c == char:\n",
    "            count +=1\n",
    "    return(count)"
   ]
  },
  {
   "cell_type": "code",
   "execution_count": 49,
   "metadata": {},
   "outputs": [
    {
     "name": "stdout",
     "output_type": "stream",
     "text": [
      "this is gehad gehad a fresh graduate from the computer science department alexandria university egyptThis is Gehad a fresh graduate from the Computer science department Alexandria University EgyptThis is Gehad a fresh graduate from the Computer science department Alexandria University EgyptThis is Gehad a fresh graduate from the Computer science department Alexandria University EgyptThis is Gehad a fresh graduate from the Computer science department Alexandria University EgyptThis is Gehad a fresh graduate from the Computer science department Alexandria University Egypt\n"
     ]
    }
   ],
   "source": [
    "for char in sent:\n",
    "        if char not in punctuations:\n",
    "            no_punct = no_punct + char\n",
    "print(no_punct)"
   ]
  },
  {
   "cell_type": "code",
   "execution_count": 54,
   "metadata": {},
   "outputs": [
    {
     "data": {
      "text/plain": [
       "4"
      ]
     },
     "execution_count": 54,
     "metadata": {},
     "output_type": "execute_result"
    }
   ],
   "source": [
    "countOccChar(\"Gehgadgg\", \"g\")"
   ]
  },
  {
   "cell_type": "code",
   "execution_count": 39,
   "metadata": {},
   "outputs": [
    {
     "name": "stdout",
     "output_type": "stream",
     "text": [
      "Enter a word, phrase or sentence for the test:This is Gehad, a fresh graduate from the Computer science department, Alexandria University, Egypt.\"\n",
      "Enter the character you want to search for: g\n",
      "0\n"
     ]
    }
   ],
   "source": [
    "# Driver code\n",
    "ph = input('Enter a word, phrase or sentence for the test:')\n",
    "\n",
    "char = input('Enter the character you want to search for: ')\n",
    "\n",
    "print(countOcc(ph, char))"
   ]
  },
  {
   "cell_type": "code",
   "execution_count": 31,
   "metadata": {},
   "outputs": [
    {
     "data": {
      "text/plain": [
       "1"
      ]
     },
     "execution_count": 31,
     "metadata": {},
     "output_type": "execute_result"
    }
   ],
   "source": [
    "print(result)"
   ]
  },
  {
   "cell_type": "code",
   "execution_count": null,
   "metadata": {},
   "outputs": [],
   "source": []
  }
 ],
 "metadata": {
  "kernelspec": {
   "display_name": "Python 3",
   "language": "python",
   "name": "python3"
  },
  "language_info": {
   "codemirror_mode": {
    "name": "ipython",
    "version": 3
   },
   "file_extension": ".py",
   "mimetype": "text/x-python",
   "name": "python",
   "nbconvert_exporter": "python",
   "pygments_lexer": "ipython3",
   "version": "3.8.5"
  }
 },
 "nbformat": 4,
 "nbformat_minor": 4
}
