{
 "cells": [
  {
   "cell_type": "markdown",
   "metadata": {},
   "source": [
    "# Count character\n",
    "## in a given word, phrase or sentence.\n"
   ]
  },
  {
   "cell_type": "markdown",
   "metadata": {},
   "source": [
    "In this notebook, I create a function to count the number of occurrence of a given character in a given word, phrase or a sentence.<br>\n",
    "And also create a function to count the number of occurrence of a given word in a given phrase or a sentence."
   ]
  },
  {
   "cell_type": "markdown",
   "metadata": {},
   "source": [
    "## Count the occurrence of a char"
   ]
  },
  {
   "cell_type": "code",
   "execution_count": null,
   "metadata": {},
   "outputs": [],
   "source": [
    "# A function to count the occurrence of a char in a word or a sentence\n",
    "def countOccChar(sent, char):\n",
    "    sent = sent.lower() #turn the sentence to lower case\n",
    "    char = char.lower() #turn the char to lower case\n",
    "    count = 0 #A counter to count the occurrence of the character\n",
    "\n",
    "    for c in sent : #loop over the sentence \n",
    "        if c == char: #Check if the char is the same as the iterator\n",
    "            count +=1 #Count the occurrence\n",
    "    return(count)"
   ]
  },
  {
   "cell_type": "markdown",
   "metadata": {},
   "source": [
    "## Count the occurrence of a word"
   ]
  },
  {
   "cell_type": "code",
   "execution_count": 56,
   "metadata": {},
   "outputs": [],
   "source": [
    "# A function to count the occurrence of a word in a sentence\n",
    "def countOccWord(sent, word):\n",
    "    sent = sent.lower() #turn the sentence to lower case\n",
    "    word = word.lower() #turn the word to lower case\n",
    "    count = 0 #A counter to count the occurrence of the character\n",
    "\n",
    "    punctuations = '''!()-[]{};:'\"\\,<>./?@#$%^&*_~'''\n",
    "    no_punct = \"\"\n",
    "    s = sent.split(\" \") #Split the sentence by space \n",
    "    for char in sent: #loop over the sentence\n",
    "        if char not in punctuations: #To remove the punctuations\n",
    "            no_punct = no_punct + char\n",
    "    s = no_punct.split(\" \")\n",
    "\n",
    "    lensent = len(s) #get the length of a sentence\n",
    "\n",
    "    for c in range(0,lensent) :\n",
    "        if word == s[c]: \n",
    "            count +=1 #Count the occurrence of a word\n",
    "    return(count)\n"
   ]
  },
  {
   "cell_type": "markdown",
   "metadata": {},
   "source": [
    "## Test"
   ]
  },
  {
   "cell_type": "code",
   "execution_count": 60,
   "metadata": {},
   "outputs": [
    {
     "data": {
      "text/plain": [
       "4"
      ]
     },
     "execution_count": 60,
     "metadata": {},
     "output_type": "execute_result"
    }
   ],
   "source": [
    "#Test countOccChar function\n",
    "char = \"g\"\n",
    "sent = \"Gehgadgg\"\n",
    "countOccChar(sent, char)"
   ]
  },
  {
   "cell_type": "code",
   "execution_count": 62,
   "metadata": {},
   "outputs": [],
   "source": [
    "#Test countOccWord function\n",
    "word = \"Gehad\"\n",
    "sent = \"This is Gehad, a fresh graduate from the Computer science department, Alexandria University, Egypt.\""
   ]
  },
  {
   "cell_type": "code",
   "execution_count": 63,
   "metadata": {},
   "outputs": [
    {
     "data": {
      "text/plain": [
       "1"
      ]
     },
     "execution_count": 63,
     "metadata": {},
     "output_type": "execute_result"
    }
   ],
   "source": [
    "countOccWord(sent, word)"
   ]
  },
  {
   "cell_type": "code",
   "execution_count": 72,
   "metadata": {},
   "outputs": [
    {
     "name": "stdout",
     "output_type": "stream",
     "text": [
      "Enter a word, phrase or sentence for the test:Want to get the most out of your 2022 Goodreads Reading Challenge?\n",
      "Enter the character you want to search for: o\n",
      "7\n"
     ]
    }
   ],
   "source": [
    "# Ask user to enter the phrase and the character\n",
    "ph = input('Enter a word, phrase or sentence for the test:')\n",
    "\n",
    "char = input('Enter the character you want to search for: ')\n",
    "\n",
    "print(countOccChar(ph, char))"
   ]
  },
  {
   "cell_type": "code",
   "execution_count": 71,
   "metadata": {},
   "outputs": [
    {
     "name": "stdout",
     "output_type": "stream",
     "text": [
      "Enter a word, phrase or sentence for the test:Want to get the most out of your 2022 Goodreads Reading Challenge?\n",
      "Enter the character you want to search for: to\n",
      "1\n"
     ]
    }
   ],
   "source": [
    "# Ask user to enter the phrase and the word\n",
    "ph = input('Enter a word, phrase or sentence for the test:')\n",
    "\n",
    "char = input('Enter the character you want to search for: ')\n",
    "\n",
    "print(countOccWord(ph, char))"
   ]
  },
  {
   "cell_type": "code",
   "execution_count": null,
   "metadata": {},
   "outputs": [],
   "source": []
  }
 ],
 "metadata": {
  "kernelspec": {
   "display_name": "Python 3",
   "language": "python",
   "name": "python3"
  },
  "language_info": {
   "codemirror_mode": {
    "name": "ipython",
    "version": 3
   },
   "file_extension": ".py",
   "mimetype": "text/x-python",
   "name": "python",
   "nbconvert_exporter": "python",
   "pygments_lexer": "ipython3",
   "version": "3.8.5"
  }
 },
 "nbformat": 4,
 "nbformat_minor": 4
}
